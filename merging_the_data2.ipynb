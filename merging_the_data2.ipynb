{
 "cells": [
  {
   "cell_type": "code",
   "execution_count": 1,
   "metadata": {},
   "outputs": [],
   "source": [
    "import pandas as pd\n",
    "import numpy as np\n",
    "import statsmodels.api as sm\n",
    "import statsmodels.formula.api as smf\n",
    "import matplotlib.pyplot as plt\n",
    "import seaborn as sns\n",
    "from sklearn.cluster import KMeans\n",
    "%matplotlib inline"
   ]
  },
  {
   "cell_type": "code",
   "execution_count": 2,
   "metadata": {},
   "outputs": [],
   "source": [
    "#Team Based Table\n",
    "attendance_df = pd.read_csv(\"/Users/jenniferwu/Documents/NBA_Social_Influence/dataset/nba_2017_attendance.csv\")\n",
    "endorsement_df = pd.read_csv(\"/Users/jenniferwu/Documents/NBA_Social_Influence/dataset/nba_2017_endorsements.csv\")\n",
    "valuations_df = pd.read_csv(\"/Users/jenniferwu/Documents/NBA_Social_Influence/dataset/nba_2017_team_valuations.csv\")\n",
    "elo_df = pd.read_csv(\"/Users/jenniferwu/Documents/NBA_Social_Influence/dataset/nba_2017_elo.csv\")\n",
    "\n",
    "\n",
    "#PLayer Based Table\n",
    "salary_df = pd.read_csv(\"/Users/jenniferwu/Documents/NBA_Social_Influence/dataset/nba_2017_salary.csv\")\n",
    "pie_df = pd.read_csv(\"/Users/jenniferwu/Documents/NBA_Social_Influence/dataset/nba_2017_pie.csv\")\n",
    "plus_minus_df = pd.read_csv(\"/Users/jenniferwu/Documents/NBA_Social_Influence/dataset/nba_2017_real_plus_minus.csv\")\n",
    "br_stats_df = pd.read_csv(\"/Users/jenniferwu/Documents/NBA_Social_Influence/dataset/nba_2017_br.csv\")\n",
    "nba_2017_twitter_players = pd.read_csv(\"/Users/jenniferwu/Documents/NBA_Social_Influence/dataset/nba_2017_twitter_players.csv\")\n",
    "nba_2017_player_wikipedia = pd.read_csv(\"/Users/jenniferwu/Documents/NBA_Social_Influence/dataset/nba_2017_player_wikipedia.csv\")"
   ]
  },
  {
   "cell_type": "code",
   "execution_count": 191,
   "metadata": {},
   "outputs": [
    {
     "name": "stdout",
     "output_type": "stream",
     "text": [
      "(30, 5)\n",
      "(10, 4)\n",
      "(30, 2)\n",
      "(30, 3)\n",
      "(449, 4)\n",
      "(486, 22)\n",
      "(468, 8)\n",
      "(486, 30)\n",
      "(329, 3)\n",
      "(162817, 5)\n"
     ]
    }
   ],
   "source": [
    "print(attendance_df.shape)\n",
    "print(endorsement_df.shape)\n",
    "print(valuations_df.shape)\n",
    "print(elo_df.shape)\n",
    "\n",
    "print(salary_df.shape)\n",
    "print(pie_df.shape)\n",
    "print(plus_minus_df.shape)\n",
    "print(br_stats_df.shape)\n",
    "print(nba_2017_twitter_players.shape)\n",
    "print(nba_2017_player_wikipedia.shape)"
   ]
  },
  {
   "cell_type": "code",
   "execution_count": 192,
   "metadata": {},
   "outputs": [
    {
     "name": "stdout",
     "output_type": "stream",
     "text": [
      "Index(['NAME', 'POSITION', 'TEAM', 'SALARY'], dtype='object') \n",
      "\n",
      "Index(['PLAYER', 'TEAM', 'AGE', 'GP', 'W', 'L', 'MIN', 'OFFRTG', 'DEFRTG',\n",
      "       'NETRTG', 'AST%', 'AST/TO', 'AST RATIO', 'OREB%', 'DREB%', 'REB%',\n",
      "       'TO RATIO', 'EFG%', 'TS%', 'USG%', 'PACE', 'PIE'],\n",
      "      dtype='object') \n",
      "\n",
      "Index(['NAME', 'TEAM', 'GP', 'MPG', 'ORPM', 'DRPM', 'RPM', 'WINS'], dtype='object') \n",
      "\n",
      "Index(['Rk', 'Player', 'Pos', 'Age', 'Tm', 'G', 'GS', 'MP', 'FG', 'FGA', 'FG%',\n",
      "       '3P', '3PA', '3P%', '2P', '2PA', '2P%', 'eFG%', 'FT', 'FTA', 'FT%',\n",
      "       'ORB', 'DRB', 'TRB', 'AST', 'STL', 'BLK', 'TOV', 'PF', 'PS/G'],\n",
      "      dtype='object') \n",
      "\n",
      "Index(['PLAYER', 'TWITTER_FAVORITE_COUNT', 'TWITTER_RETWEET_COUNT'], dtype='object') \n",
      "\n",
      "Index(['Unnamed: 0', 'names', 'pageviews', 'timestamps', 'wikipedia_handles'], dtype='object') \n",
      "\n"
     ]
    }
   ],
   "source": [
    "print(salary_df.columns,\"\\n\")\n",
    "print(pie_df.columns,\"\\n\")\n",
    "print(plus_minus_df.columns,\"\\n\")\n",
    "print(br_stats_df.columns,\"\\n\")\n",
    "print(nba_2017_twitter_players.columns,\"\\n\")\n",
    "print(nba_2017_player_wikipedia.columns,\"\\n\")"
   ]
  },
  {
   "cell_type": "code",
   "execution_count": 193,
   "metadata": {},
   "outputs": [],
   "source": [
    "salary_df.rename(columns={'NAME': 'PLAYER'}, inplace=True)\n",
    "salary_df.drop([\"POSITION\",\"TEAM\"], inplace=True, axis=1)"
   ]
  },
  {
   "cell_type": "code",
   "execution_count": 194,
   "metadata": {},
   "outputs": [],
   "source": [
    "plus_minus_df.rename(columns={\"NAME\":\"PLAYER\"}, inplace=True)\n",
    "players = []\n",
    "for player in plus_minus_df[\"PLAYER\"]:\n",
    "    plyr, _ = player.split(\",\")\n",
    "    players.append(plyr)\n",
    "plus_minus_df.drop([\"PLAYER\"], inplace=True, axis=1)\n",
    "plus_minus_df[\"PLAYER\"] = players"
   ]
  },
  {
   "cell_type": "code",
   "execution_count": 195,
   "metadata": {},
   "outputs": [],
   "source": [
    "pie_df_subset = pie_df[[\"PLAYER\", \"PIE\", \"PACE\"]].copy()"
   ]
  },
  {
   "cell_type": "code",
   "execution_count": 196,
   "metadata": {},
   "outputs": [],
   "source": [
    "nba_players_df = br_stats_df.copy()\n",
    "nba_players_df.rename(columns={'Player': 'PLAYER','Pos':'POSITION', 'Tm': \"TEAM\", 'Age': 'AGE'}, inplace=True)\n",
    "nba_players_df.drop([\"G\", \"GS\", \"TEAM\"], inplace=True, axis=1)"
   ]
  },
  {
   "cell_type": "code",
   "execution_count": 197,
   "metadata": {},
   "outputs": [],
   "source": [
    "nba_2017_player_wikipedia['pageview_mean']=nba_2017_player_wikipedia.pageviews\n",
    "nba_2017_player_wikipedia['pageview_sum']=nba_2017_player_wikipedia.pageviews\n",
    "nba_2017_player_wikipedia['PLAYER']=nba_2017_player_wikipedia.names\n",
    "nba_2017_player_wikipedia = nba_2017_player_wikipedia.groupby(['PLAYER'], as_index = False).agg({'pageview_sum':\"sum\",\n",
    "                                                                    'pageview_mean':\"mean\"})"
   ]
  },
  {
   "cell_type": "code",
   "execution_count": 205,
   "metadata": {},
   "outputs": [
    {
     "data": {
      "text/html": [
       "<div>\n",
       "<style scoped>\n",
       "    .dataframe tbody tr th:only-of-type {\n",
       "        vertical-align: middle;\n",
       "    }\n",
       "\n",
       "    .dataframe tbody tr th {\n",
       "        vertical-align: top;\n",
       "    }\n",
       "\n",
       "    .dataframe thead th {\n",
       "        text-align: right;\n",
       "    }\n",
       "</style>\n",
       "<table border=\"1\" class=\"dataframe\">\n",
       "  <thead>\n",
       "    <tr style=\"text-align: right;\">\n",
       "      <th></th>\n",
       "      <th>PLAYER</th>\n",
       "      <th>TWITTER_FAVORITE_COUNT</th>\n",
       "      <th>TWITTER_RETWEET_COUNT</th>\n",
       "    </tr>\n",
       "  </thead>\n",
       "  <tbody>\n",
       "    <tr>\n",
       "      <th>0</th>\n",
       "      <td>Russell Westbrook</td>\n",
       "      <td>2130.5</td>\n",
       "      <td>559.0</td>\n",
       "    </tr>\n",
       "    <tr>\n",
       "      <th>1</th>\n",
       "      <td>James Harden</td>\n",
       "      <td>969.0</td>\n",
       "      <td>321.5</td>\n",
       "    </tr>\n",
       "    <tr>\n",
       "      <th>2</th>\n",
       "      <td>Isaiah Thomas</td>\n",
       "      <td>467.5</td>\n",
       "      <td>155.5</td>\n",
       "    </tr>\n",
       "    <tr>\n",
       "      <th>3</th>\n",
       "      <td>Anthony Davis</td>\n",
       "      <td>368.0</td>\n",
       "      <td>104.0</td>\n",
       "    </tr>\n",
       "    <tr>\n",
       "      <th>4</th>\n",
       "      <td>DeMar DeRozan</td>\n",
       "      <td>0.0</td>\n",
       "      <td>186.0</td>\n",
       "    </tr>\n",
       "  </tbody>\n",
       "</table>\n",
       "</div>"
      ],
      "text/plain": [
       "              PLAYER  TWITTER_FAVORITE_COUNT  TWITTER_RETWEET_COUNT\n",
       "0  Russell Westbrook                  2130.5                  559.0\n",
       "1       James Harden                   969.0                  321.5\n",
       "2      Isaiah Thomas                   467.5                  155.5\n",
       "3      Anthony Davis                   368.0                  104.0\n",
       "4      DeMar DeRozan                     0.0                  186.0"
      ]
     },
     "execution_count": 205,
     "metadata": {},
     "output_type": "execute_result"
    }
   ],
   "source": [
    "nba_2017_twitter_players.head()"
   ]
  },
  {
   "cell_type": "markdown",
   "metadata": {},
   "source": [
    "## START THE JOIN"
   ]
  },
  {
   "cell_type": "code",
   "execution_count": 198,
   "metadata": {},
   "outputs": [
    {
     "data": {
      "text/plain": [
       "(455, 29)"
      ]
     },
     "execution_count": 198,
     "metadata": {},
     "output_type": "execute_result"
    }
   ],
   "source": [
    "nba_players_df = nba_players_df.merge(nba_2017_player_wikipedia, how = 'inner', on = 'PLAYER')\n",
    "nba_players_df.shape"
   ]
  },
  {
   "cell_type": "code",
   "execution_count": 199,
   "metadata": {},
   "outputs": [
    {
     "data": {
      "text/plain": [
       "(437, 31)"
      ]
     },
     "execution_count": 199,
     "metadata": {},
     "output_type": "execute_result"
    }
   ],
   "source": [
    "nba_players_df = nba_players_df.merge(pie_df_subset, how = 'inner', on = 'PLAYER')\n",
    "nba_players_df.shape"
   ]
  },
  {
   "cell_type": "code",
   "execution_count": 200,
   "metadata": {},
   "outputs": [
    {
     "data": {
      "text/plain": [
       "(443, 32)"
      ]
     },
     "execution_count": 200,
     "metadata": {},
     "output_type": "execute_result"
    }
   ],
   "source": [
    "nba_players_df = nba_players_df.merge(salary_df, how = 'left', on = 'PLAYER')\n",
    "nba_players_df.shape"
   ]
  },
  {
   "cell_type": "code",
   "execution_count": 201,
   "metadata": {},
   "outputs": [
    {
     "data": {
      "text/plain": [
       "(428, 39)"
      ]
     },
     "execution_count": 201,
     "metadata": {},
     "output_type": "execute_result"
    }
   ],
   "source": [
    "nba_players_df = nba_players_df.merge(plus_minus_df, how = 'inner', on = 'PLAYER')\n",
    "nba_players_df.shape"
   ]
  },
  {
   "cell_type": "code",
   "execution_count": 206,
   "metadata": {},
   "outputs": [
    {
     "data": {
      "text/plain": [
       "(428, 41)"
      ]
     },
     "execution_count": 206,
     "metadata": {},
     "output_type": "execute_result"
    }
   ],
   "source": [
    "nba_players_df = nba_players_df.merge(nba_2017_twitter_players, how = 'left', on = 'PLAYER')\n",
    "nba_players_df.shape"
   ]
  },
  {
   "cell_type": "code",
   "execution_count": 207,
   "metadata": {},
   "outputs": [
    {
     "data": {
      "text/html": [
       "<div>\n",
       "<style scoped>\n",
       "    .dataframe tbody tr th:only-of-type {\n",
       "        vertical-align: middle;\n",
       "    }\n",
       "\n",
       "    .dataframe tbody tr th {\n",
       "        vertical-align: top;\n",
       "    }\n",
       "\n",
       "    .dataframe thead th {\n",
       "        text-align: right;\n",
       "    }\n",
       "</style>\n",
       "<table border=\"1\" class=\"dataframe\">\n",
       "  <thead>\n",
       "    <tr style=\"text-align: right;\">\n",
       "      <th></th>\n",
       "      <th>Rk</th>\n",
       "      <th>PLAYER</th>\n",
       "      <th>POSITION</th>\n",
       "      <th>AGE</th>\n",
       "      <th>MP</th>\n",
       "      <th>FG</th>\n",
       "      <th>FGA</th>\n",
       "      <th>FG%</th>\n",
       "      <th>3P</th>\n",
       "      <th>3PA</th>\n",
       "      <th>...</th>\n",
       "      <th>SALARY</th>\n",
       "      <th>TEAM</th>\n",
       "      <th>GP</th>\n",
       "      <th>MPG</th>\n",
       "      <th>ORPM</th>\n",
       "      <th>DRPM</th>\n",
       "      <th>RPM</th>\n",
       "      <th>WINS</th>\n",
       "      <th>TWITTER_FAVORITE_COUNT</th>\n",
       "      <th>TWITTER_RETWEET_COUNT</th>\n",
       "    </tr>\n",
       "  </thead>\n",
       "  <tbody>\n",
       "  </tbody>\n",
       "</table>\n",
       "<p>0 rows × 41 columns</p>\n",
       "</div>"
      ],
      "text/plain": [
       "Empty DataFrame\n",
       "Columns: [Rk, PLAYER, POSITION, AGE, MP, FG, FGA, FG%, 3P, 3PA, 3P%, 2P, 2PA, 2P%, eFG%, FT, FTA, FT%, ORB, DRB, TRB, AST, STL, BLK, TOV, PF, PS/G, pageview_sum, pageview_mean, PIE, PACE, SALARY, TEAM, GP, MPG, ORPM, DRPM, RPM, WINS, TWITTER_FAVORITE_COUNT, TWITTER_RETWEET_COUNT]\n",
       "Index: []\n",
       "\n",
       "[0 rows x 41 columns]"
      ]
     },
     "execution_count": 207,
     "metadata": {},
     "output_type": "execute_result"
    }
   ],
   "source": [
    "#checking for duplicates\n",
    "nba_players_df[nba_players_df.duplicated()]"
   ]
  },
  {
   "cell_type": "code",
   "execution_count": 209,
   "metadata": {},
   "outputs": [
    {
     "data": {
      "text/plain": [
       "3P%                        29\n",
       "FT%                         7\n",
       "SALARY                    102\n",
       "TWITTER_FAVORITE_COUNT    139\n",
       "TWITTER_RETWEET_COUNT     139\n",
       "dtype: int64"
      ]
     },
     "execution_count": 209,
     "metadata": {},
     "output_type": "execute_result"
    }
   ],
   "source": [
    "#NA columns \n",
    "nba_players_df.isna().sum()[nba_players_df.isna().sum() > 0 ]"
   ]
  },
  {
   "cell_type": "code",
   "execution_count": 213,
   "metadata": {},
   "outputs": [],
   "source": [
    "nba_players_df.to_csv('/Users/jenniferwu/Documents/NBA_Social_Influence/final_master_data_file.csv')"
   ]
  }
 ],
 "metadata": {
  "kernelspec": {
   "display_name": "Python 3",
   "language": "python",
   "name": "python3"
  },
  "language_info": {
   "codemirror_mode": {
    "name": "ipython",
    "version": 3
   },
   "file_extension": ".py",
   "mimetype": "text/x-python",
   "name": "python",
   "nbconvert_exporter": "python",
   "pygments_lexer": "ipython3",
   "version": "3.7.4"
  }
 },
 "nbformat": 4,
 "nbformat_minor": 2
}
